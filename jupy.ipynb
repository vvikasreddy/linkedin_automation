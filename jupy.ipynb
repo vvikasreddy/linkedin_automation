{
 "cells": [
  {
   "cell_type": "code",
   "execution_count": 27,
   "metadata": {},
   "outputs": [
    {
     "name": "stdout",
     "output_type": "stream",
     "text": [
      "trying to find the ul element\n",
      "Class name of the <ul> element: YTdYusJCIaxtQTxmWWjMBeDtYryxJkzVbfbuI list-style-none\n"
     ]
    }
   ],
   "source": [
    "from selenium import webdriver\n",
    "from selenium.webdriver.chrome.options import Options\n",
    "from selenium.webdriver.common.by import By\n",
    "from selenium.webdriver.support import expected_conditions as EC\n",
    "from selenium.webdriver.common.keys import Keys\n",
    "import time\n",
    "import random\n",
    "\n",
    "\n",
    "# code : \"C:\\Program Files\\Google\\Chrome\\Application\\chrome.exe\" --remote-debugging-port=9222\n",
    "\n",
    "from selenium.webdriver.support.ui import WebDriverWait\n",
    "\n",
    "chrome_options = Options()\n",
    "chrome_options.add_experimental_option(\"debuggerAddress\", \"127.0.0.1:9222\")\n",
    "\n",
    "driver = webdriver.Chrome(options=chrome_options)\n",
    "\n",
    "\n",
    "# Load the page (replace with your actual URL)\n",
    "driver.get(\"https://www.linkedin.com/search/results/people\")  # Replace with the real URL\n",
    "\n",
    "# Wait for the <ul> element to load (adjust timeout as needed)\n",
    "wait = WebDriverWait(driver, 10)\n",
    "\n",
    "print('trying to find the ul element')\n",
    "# Find the first <ul> element on the page (or adjust to target a specific one)\n",
    "ul_element = wait.until(\n",
    "    EC.element_to_be_clickable((By.XPATH, \"//ul[@role='list']\"))  # Stronger condition\n",
    ")\n",
    "ul_class = ul_element.get_attribute(\"class\")  # Should work if fetched recently\n",
    "print(f\"Class name of the <ul> element: {ul_class}\")\n",
    "\n",
    "\n"
   ]
  },
  {
   "cell_type": "code",
   "execution_count": 44,
   "metadata": {},
   "outputs": [
    {
     "name": "stdout",
     "output_type": "stream",
     "text": [
      "eRdmFOZHtQscwUFbntHdPIYSUQjFMzaPjWkazE\n"
     ]
    }
   ],
   "source": [
    "# Re-fetch the elements\n",
    "# # Find all <li> elements within the <ul>\n",
    "li_elements = ul_element.find_elements(By.TAG_NAME, \"li\")\n",
    "print(li_elements[0].get_attribute(\"class\"))\n"
   ]
  },
  {
   "cell_type": "code",
   "execution_count": 45,
   "metadata": {},
   "outputs": [
    {
     "name": "stdout",
     "output_type": "stream",
     "text": [
      "eRdmFOZHtQscwUFbntHdPIYSUQjFMzaPjWkazE\n"
     ]
    },
    {
     "ename": "NoSuchElementException",
     "evalue": "Message: no such element: Unable to locate element: {\"method\":\"xpath\",\"selector\":\".//button[contains(@class, 'artdeco-button')][.//span[text()='Connect']]\"}\n  (Session info: chrome=134.0.6998.118); For documentation on this error, please visit: https://www.selenium.dev/documentation/webdriver/troubleshooting/errors#no-such-element-exception\nStacktrace:\n\tGetHandleVerifier [0x00007FF73304DF85+26693]\n\t(No symbol) [0x00007FF732FAEAD0]\n\t(No symbol) [0x00007FF732E391CA]\n\t(No symbol) [0x00007FF732E8F747]\n\t(No symbol) [0x00007FF732E8F97C]\n\t(No symbol) [0x00007FF732E821CC]\n\t(No symbol) [0x00007FF732EB792F]\n\t(No symbol) [0x00007FF732E82096]\n\t(No symbol) [0x00007FF732EB7B00]\n\t(No symbol) [0x00007FF732EE00B8]\n\t(No symbol) [0x00007FF732EB76C3]\n\t(No symbol) [0x00007FF732E80490]\n\t(No symbol) [0x00007FF732E81743]\n\tGetHandleVerifier [0x00007FF7333A436D+3525677]\n\tGetHandleVerifier [0x00007FF7333B7F3B+3606523]\n\tGetHandleVerifier [0x00007FF7333ACEE3+3561379]\n\tGetHandleVerifier [0x00007FF733117C0A+853194]\n\t(No symbol) [0x00007FF732FB990F]\n\t(No symbol) [0x00007FF732FB5674]\n\t(No symbol) [0x00007FF732FB5816]\n\t(No symbol) [0x00007FF732FA4D89]\n\tBaseThreadInitThunk [0x00007FF83DC4E8D7+23]\n\tRtlUserThreadStart [0x00007FF83EF3BF6C+44]\n",
     "output_type": "error",
     "traceback": [
      "\u001b[1;31m---------------------------------------------------------------------------\u001b[0m",
      "\u001b[1;31mNoSuchElementException\u001b[0m                    Traceback (most recent call last)",
      "Cell \u001b[1;32mIn[45], line 4\u001b[0m\n\u001b[0;32m      1\u001b[0m \u001b[38;5;66;03m# Re-fetch the elements\u001b[39;00m\n\u001b[0;32m      2\u001b[0m \u001b[38;5;28mprint\u001b[39m(li_elements[\u001b[38;5;241m0\u001b[39m]\u001b[38;5;241m.\u001b[39mget_attribute(\u001b[38;5;124m\"\u001b[39m\u001b[38;5;124mclass\u001b[39m\u001b[38;5;124m\"\u001b[39m))\n\u001b[1;32m----> 4\u001b[0m connect_button \u001b[38;5;241m=\u001b[39m li_elements[\u001b[38;5;241m1\u001b[39m]\u001b[38;5;241m.\u001b[39mfind_element(\n\u001b[0;32m      5\u001b[0m             By\u001b[38;5;241m.\u001b[39mXPATH, \u001b[38;5;124m\"\u001b[39m\u001b[38;5;124m.//button[contains(@class, \u001b[39m\u001b[38;5;124m'\u001b[39m\u001b[38;5;124martdeco-button\u001b[39m\u001b[38;5;124m'\u001b[39m\u001b[38;5;124m)][.//span[text()=\u001b[39m\u001b[38;5;124m'\u001b[39m\u001b[38;5;124mConnect\u001b[39m\u001b[38;5;124m'\u001b[39m\u001b[38;5;124m]]\u001b[39m\u001b[38;5;124m\"\u001b[39m\n\u001b[0;32m      6\u001b[0m         )\n\u001b[0;32m      8\u001b[0m \u001b[38;5;28mprint\u001b[39m(connect_button\u001b[38;5;241m.\u001b[39mget_attribute(\u001b[38;5;124m\"\u001b[39m\u001b[38;5;124mclass\u001b[39m\u001b[38;5;124m\"\u001b[39m))\n\u001b[0;32m      9\u001b[0m connect_button\u001b[38;5;241m.\u001b[39mclick()\n",
      "File \u001b[1;32md:\\Anaconda\\envs\\agents\\Lib\\site-packages\\selenium\\webdriver\\remote\\webelement.py:417\u001b[0m, in \u001b[0;36mWebElement.find_element\u001b[1;34m(self, by, value)\u001b[0m\n\u001b[0;32m    414\u001b[0m     by \u001b[38;5;241m=\u001b[39m By\u001b[38;5;241m.\u001b[39mCSS_SELECTOR\n\u001b[0;32m    415\u001b[0m     value \u001b[38;5;241m=\u001b[39m \u001b[38;5;124mf\u001b[39m\u001b[38;5;124m'\u001b[39m\u001b[38;5;124m[name=\u001b[39m\u001b[38;5;124m\"\u001b[39m\u001b[38;5;132;01m{\u001b[39;00mvalue\u001b[38;5;132;01m}\u001b[39;00m\u001b[38;5;124m\"\u001b[39m\u001b[38;5;124m]\u001b[39m\u001b[38;5;124m'\u001b[39m\n\u001b[1;32m--> 417\u001b[0m \u001b[38;5;28;01mreturn\u001b[39;00m \u001b[38;5;28mself\u001b[39m\u001b[38;5;241m.\u001b[39m_execute(Command\u001b[38;5;241m.\u001b[39mFIND_CHILD_ELEMENT, {\u001b[38;5;124m\"\u001b[39m\u001b[38;5;124musing\u001b[39m\u001b[38;5;124m\"\u001b[39m: by, \u001b[38;5;124m\"\u001b[39m\u001b[38;5;124mvalue\u001b[39m\u001b[38;5;124m\"\u001b[39m: value})[\u001b[38;5;124m\"\u001b[39m\u001b[38;5;124mvalue\u001b[39m\u001b[38;5;124m\"\u001b[39m]\n",
      "File \u001b[1;32md:\\Anaconda\\envs\\agents\\Lib\\site-packages\\selenium\\webdriver\\remote\\webelement.py:395\u001b[0m, in \u001b[0;36mWebElement._execute\u001b[1;34m(self, command, params)\u001b[0m\n\u001b[0;32m    393\u001b[0m     params \u001b[38;5;241m=\u001b[39m {}\n\u001b[0;32m    394\u001b[0m params[\u001b[38;5;124m\"\u001b[39m\u001b[38;5;124mid\u001b[39m\u001b[38;5;124m\"\u001b[39m] \u001b[38;5;241m=\u001b[39m \u001b[38;5;28mself\u001b[39m\u001b[38;5;241m.\u001b[39m_id\n\u001b[1;32m--> 395\u001b[0m \u001b[38;5;28;01mreturn\u001b[39;00m \u001b[38;5;28mself\u001b[39m\u001b[38;5;241m.\u001b[39m_parent\u001b[38;5;241m.\u001b[39mexecute(command, params)\n",
      "File \u001b[1;32md:\\Anaconda\\envs\\agents\\Lib\\site-packages\\selenium\\webdriver\\remote\\webdriver.py:354\u001b[0m, in \u001b[0;36mWebDriver.execute\u001b[1;34m(self, driver_command, params)\u001b[0m\n\u001b[0;32m    352\u001b[0m response \u001b[38;5;241m=\u001b[39m \u001b[38;5;28mself\u001b[39m\u001b[38;5;241m.\u001b[39mcommand_executor\u001b[38;5;241m.\u001b[39mexecute(driver_command, params)\n\u001b[0;32m    353\u001b[0m \u001b[38;5;28;01mif\u001b[39;00m response:\n\u001b[1;32m--> 354\u001b[0m     \u001b[38;5;28mself\u001b[39m\u001b[38;5;241m.\u001b[39merror_handler\u001b[38;5;241m.\u001b[39mcheck_response(response)\n\u001b[0;32m    355\u001b[0m     response[\u001b[38;5;124m\"\u001b[39m\u001b[38;5;124mvalue\u001b[39m\u001b[38;5;124m\"\u001b[39m] \u001b[38;5;241m=\u001b[39m \u001b[38;5;28mself\u001b[39m\u001b[38;5;241m.\u001b[39m_unwrap_value(response\u001b[38;5;241m.\u001b[39mget(\u001b[38;5;124m\"\u001b[39m\u001b[38;5;124mvalue\u001b[39m\u001b[38;5;124m\"\u001b[39m, \u001b[38;5;28;01mNone\u001b[39;00m))\n\u001b[0;32m    356\u001b[0m     \u001b[38;5;28;01mreturn\u001b[39;00m response\n",
      "File \u001b[1;32md:\\Anaconda\\envs\\agents\\Lib\\site-packages\\selenium\\webdriver\\remote\\errorhandler.py:229\u001b[0m, in \u001b[0;36mErrorHandler.check_response\u001b[1;34m(self, response)\u001b[0m\n\u001b[0;32m    227\u001b[0m         alert_text \u001b[38;5;241m=\u001b[39m value[\u001b[38;5;124m\"\u001b[39m\u001b[38;5;124malert\u001b[39m\u001b[38;5;124m\"\u001b[39m]\u001b[38;5;241m.\u001b[39mget(\u001b[38;5;124m\"\u001b[39m\u001b[38;5;124mtext\u001b[39m\u001b[38;5;124m\"\u001b[39m)\n\u001b[0;32m    228\u001b[0m     \u001b[38;5;28;01mraise\u001b[39;00m exception_class(message, screen, stacktrace, alert_text)  \u001b[38;5;66;03m# type: ignore[call-arg]  # mypy is not smart enough here\u001b[39;00m\n\u001b[1;32m--> 229\u001b[0m \u001b[38;5;28;01mraise\u001b[39;00m exception_class(message, screen, stacktrace)\n",
      "\u001b[1;31mNoSuchElementException\u001b[0m: Message: no such element: Unable to locate element: {\"method\":\"xpath\",\"selector\":\".//button[contains(@class, 'artdeco-button')][.//span[text()='Connect']]\"}\n  (Session info: chrome=134.0.6998.118); For documentation on this error, please visit: https://www.selenium.dev/documentation/webdriver/troubleshooting/errors#no-such-element-exception\nStacktrace:\n\tGetHandleVerifier [0x00007FF73304DF85+26693]\n\t(No symbol) [0x00007FF732FAEAD0]\n\t(No symbol) [0x00007FF732E391CA]\n\t(No symbol) [0x00007FF732E8F747]\n\t(No symbol) [0x00007FF732E8F97C]\n\t(No symbol) [0x00007FF732E821CC]\n\t(No symbol) [0x00007FF732EB792F]\n\t(No symbol) [0x00007FF732E82096]\n\t(No symbol) [0x00007FF732EB7B00]\n\t(No symbol) [0x00007FF732EE00B8]\n\t(No symbol) [0x00007FF732EB76C3]\n\t(No symbol) [0x00007FF732E80490]\n\t(No symbol) [0x00007FF732E81743]\n\tGetHandleVerifier [0x00007FF7333A436D+3525677]\n\tGetHandleVerifier [0x00007FF7333B7F3B+3606523]\n\tGetHandleVerifier [0x00007FF7333ACEE3+3561379]\n\tGetHandleVerifier [0x00007FF733117C0A+853194]\n\t(No symbol) [0x00007FF732FB990F]\n\t(No symbol) [0x00007FF732FB5674]\n\t(No symbol) [0x00007FF732FB5816]\n\t(No symbol) [0x00007FF732FA4D89]\n\tBaseThreadInitThunk [0x00007FF83DC4E8D7+23]\n\tRtlUserThreadStart [0x00007FF83EF3BF6C+44]\n"
     ]
    }
   ],
   "source": [
    "# Re-fetch the elements\n",
    "print(li_elements[0].get_attribute(\"class\"))\n",
    "\n",
    "connect_button = li_elements[1].find_element(\n",
    "            By.XPATH, \".//button[contains(@class, 'artdeco-button')][.//span[text()='Connect']]\"\n",
    "        )\n",
    "\n",
    "print(connect_button.get_attribute(\"class\"))\n",
    "connect_button.click()\n",
    "\n",
    "add_note_button = wait.until(\n",
    "    EC.element_to_be_clickable((By.XPATH, \"//button[@aria-label='Add a note'][contains(@class, 'artdeco-button')]\"))\n",
    ")\n",
    "\n",
    "add_note_button.click()\n",
    "\n",
    "textarea = wait.until(\n",
    "    EC.visibility_of_element_located(\n",
    "        (By.XPATH, \"//textarea[@id='custom-message'][contains(@class, 'connect-button-send-invite__custom-message')]\")\n",
    "    )\n",
    ")\n",
    "\n",
    "# Text to enter\n",
    "message = \"Hi, we met at the recent tech conference. Looking forward to connecting!\"\n",
    "\n",
    "# Clear the textarea (optional, in case it has default text)\n",
    "textarea.clear()\n",
    "\n",
    "# Enter the text\n",
    "textarea.send_keys(message)\n",
    "\n",
    "\n",
    "send_button = wait.until(\n",
    "    EC.element_to_be_clickable(\n",
    "        (By.XPATH, \"//button[@aria-label='Send invitation'][contains(@class, 'artdeco-button')]\")\n",
    "    )\n",
    ")\n",
    "\n",
    "# Print confirmation (optional)\n",
    "print(\"Found 'Send' button with aria-label: \", send_button.get_attribute(\"aria-label\"))\n",
    "\n",
    "# Click the button\n",
    "# send_button.click()\n"
   ]
  },
  {
   "cell_type": "code",
   "execution_count": 19,
   "metadata": {},
   "outputs": [
    {
     "name": "stdout",
     "output_type": "stream",
     "text": [
      "Invite Lavanya Mamillapalli to connect\n"
     ]
    }
   ],
   "source": [
    "name = connect_button.get_attribute(\"aria-label\")\n",
    "print(name)"
   ]
  },
  {
   "cell_type": "code",
   "execution_count": 3,
   "metadata": {},
   "outputs": [
    {
     "name": "stdout",
     "output_type": "stream",
     "text": [
      "eRdmFOZHtQscwUFbntHdPIYSUQjFMzaPjWkazE\n",
      "eRdmFOZHtQscwUFbntHdPIYSUQjFMzaPjWkazE\n",
      "Invite Lavanya Mamillapalli to connect\n",
      "Found 'Send' button with aria-label:  Send invitation\n",
      "eRdmFOZHtQscwUFbntHdPIYSUQjFMzaPjWkazE\n",
      "eRdmFOZHtQscwUFbntHdPIYSUQjFMzaPjWkazE\n",
      "Invite Nancy Tyagi to connect\n",
      "Found 'Send' button with aria-label:  Send invitation\n",
      "eRdmFOZHtQscwUFbntHdPIYSUQjFMzaPjWkazE\n",
      "eRdmFOZHtQscwUFbntHdPIYSUQjFMzaPjWkazE\n",
      "Invite Jayant Sharma to connect\n",
      "Found 'Send' button with aria-label:  Send invitation\n",
      "eRdmFOZHtQscwUFbntHdPIYSUQjFMzaPjWkazE\n",
      "eRdmFOZHtQscwUFbntHdPIYSUQjFMzaPjWkazE\n",
      "Invite Rahul Raj to connect\n",
      "Found 'Send' button with aria-label:  Send invitation\n",
      "eRdmFOZHtQscwUFbntHdPIYSUQjFMzaPjWkazE\n",
      "Invite Manish J. to connect\n",
      "Found 'Send' button with aria-label:  Send invitation\n",
      "eRdmFOZHtQscwUFbntHdPIYSUQjFMzaPjWkazE\n",
      "Invite Anurag Varshney, MSc, PMP®, CSPO® to connect\n",
      "Found 'Send' button with aria-label:  Send invitation\n",
      "eRdmFOZHtQscwUFbntHdPIYSUQjFMzaPjWkazE\n",
      "Invite Preet M. to connect\n",
      "Found 'Send' button with aria-label:  Send invitation\n"
     ]
    }
   ],
   "source": [
    "names = []\n",
    "li_elements = ul_element.find_elements(By.TAG_NAME, \"li\")\n",
    "print(li_elements[0].get_attribute(\"class\"))\n",
    "# Iterate through each <li> and find the \"Connect\" button\n",
    "for li in li_elements:\n",
    "    try:\n",
    "        print(li_elements[0].get_attribute(\"class\"))\n",
    "\n",
    "        # Find the \"Connect\" button within this <li>\n",
    "        connect_button = li.find_element(\n",
    "            By.XPATH, \".//button[contains(@class, 'artdeco-button')][.//span[text()='Connect']]\"\n",
    "        )\n",
    "    except Exception as e:\n",
    "        # print(\"An exception arised.......................\")\n",
    "        # # Find the \"Connect\" button within this <li>\n",
    "        # connect_button = li.find_element(\n",
    "        #     By.XPATH, \".//button[contains(@class, 'artdeco-button')][.//span[text()='Message']]\"\n",
    "        # )\n",
    "        # print(e)\n",
    "        continue\n",
    "    connect_button.click()\n",
    "    \n",
    "    names.append(connect_button.get_attribute(\"aria-label\"))    \n",
    "    print(names[-1])\n",
    "    \n",
    "    # Scroll the button into view\n",
    "    driver.execute_script(\"arguments[0].scrollIntoView({block: 'center'});\", connect_button)\n",
    "    time.sleep(random.uniform(0.5, 1.5))  # Let the scroll settle\n",
    "\n",
    "    add_note_button = wait.until(\n",
    "    EC.element_to_be_clickable(\n",
    "        (By.XPATH, \"//button[@aria-label='Add a note'][contains(@class, 'artdeco-button')]\")\n",
    "    )\n",
    ")\n",
    "\n",
    "    add_note_button.click()\n",
    "\n",
    "    textarea = wait.until(\n",
    "        EC.visibility_of_element_located(\n",
    "            (By.XPATH, \"//textarea[@id='custom-message'][contains(@class, 'connect-button-send-invite__custom-message')]\")\n",
    "        )\n",
    "    )\n",
    "\n",
    "    # Text to enter\n",
    "    message = \"Hi, we met at the recent tech conference. Looking forward to connecting!\"\n",
    "\n",
    "    # Clear the textarea (optional, in case it has default text)\n",
    "    textarea.clear()\n",
    "\n",
    "    # Enter the text\n",
    "    textarea.send_keys(message)\n",
    "\n",
    "\n",
    "    send_button = wait.until(\n",
    "        EC.element_to_be_clickable(\n",
    "            (By.XPATH, \"//button[@aria-label='Send invitation'][contains(@class, 'artdeco-button')]\"))\n",
    "        )\n",
    "    \n",
    "\n",
    "    # Print confirmation (optional)\n",
    "    print(\"Found 'Send' button with aria-label: \", send_button.get_attribute(\"aria-label\"))\n",
    "\n",
    "    # Click the button\n",
    "    # send_button.click()\n",
    "\n",
    "    # only used to test the code\n",
    "    cancel_send = wait.until(\n",
    "        EC.element_to_be_clickable(\n",
    "            (By.XPATH, \"//button[@aria-label='Dismiss'][contains(@class, 'artdeco-button')]\")\n",
    "        )\n",
    "    )\n",
    "\n",
    "    cancel_send.click()\n",
    "    \n",
    "    # break\n",
    "# Close the browser"
   ]
  },
  {
   "cell_type": "code",
   "execution_count": null,
   "metadata": {},
   "outputs": [
    {
     "name": "stdout",
     "output_type": "stream",
     "text": [
      "eRdmFOZHtQscwUFbntHdPIYSUQjFMzaPjWkazE\n",
      "Exception occurred: --------\n",
      "checkimg for the button :\n",
      "Button with aria-label='Create video meeting' is present.\n",
      "Button with aria-label='Create video meeting' exists.\n",
      "find the text box\n",
      "send text to the textbox\n",
      "Falling back to manual clearing\n",
      "No 'Message' button found either. Skipping...\n",
      "Exception occurred: --------\n",
      "No 'Message' button found either. Skipping...\n",
      "Exception occurred: --------\n",
      "No 'Message' button found either. Skipping...\n"
     ]
    }
   ],
   "source": [
    "\n",
    "\n",
    "# List to store names\n",
    "names = []\n",
    "\n",
    "li_elements = ul_element.find_elements(By.TAG_NAME, \"li\")\n",
    "print(li_elements[0].get_attribute(\"class\"))\n",
    "\n",
    "# Function to simulate human typing\n",
    "def human_typing(element, text):\n",
    "    for char in text:\n",
    "        element.send_keys(char)\n",
    "        time.sleep(random.uniform(0.05, 0.15))  # Random delay between 50ms and 150ms per character\n",
    "\n",
    "def enter_message_text(driver):\n",
    "\n",
    "    print(\"find the text box\")\n",
    "    # Step 1: Find and click the textbox\n",
    "    textbox = driver.find_element(\n",
    "        By.XPATH, \"//div[@contenteditable='true'][@aria-label='Write a message…']\"\n",
    "    )\n",
    "    time.sleep(random.uniform(1.0, 2.0))  # Human-like pause before clicking\n",
    "    textbox.click()\n",
    "\n",
    "    print(\"send text to the textbox\")\n",
    "    # Step 2: Send text to the textbox\n",
    "    message = \"Hello, this is a test message!\"\n",
    "    textbox.send_keys(message)\n",
    "    time.sleep(random.uniform(1.0, 2.0))  # Pause after typing\n",
    "\n",
    "    # remove this while actual implementation------------------------------: Clear the text\n",
    "    print(\"Falling back to manual clearing\")\n",
    "    textbox.send_keys(Keys.CONTROL + \"a\")  # Select all\n",
    "    time.sleep(random.uniform(0.5, 1.0))\n",
    "    textbox.send_keys(Keys.BACKSPACE)  # Delete\n",
    "    print(\"Textbox cleared manually\")\n",
    "\n",
    "    print(\"# Step 3: Find and click the Send button\")\n",
    "    send_button = driver.find_element(\n",
    "        By.XPATH, \"//button[@type='submit'][contains(@class, 'msg-form__send-button')]\"\n",
    "    )\n",
    "    time.sleep(random.uniform(1.0, 2.0))  # Pause before clicking\n",
    "    # send_button.click()\n",
    "\n",
    "    # Step 4: \n",
    "    close_button = WebDriverWait(driver, 10).until(\n",
    "        EC.presence_of_element_located((By.XPATH, \"//span[contains(., 'Close your conversation')]/parent::button\"))\n",
    "    )\n",
    "    # print(f\"Found button with ID: {button.get_attribute('id')}\")  # Should be \"ember366\"\n",
    "    close_button.click()\n",
    "  \n",
    "    time.sleep(random.uniform(1.0, 2.0))\n",
    "    time.sleep(random.uniform(1.0, 2.0))  # Pause after submitting\n",
    "    # Iterate through each <li> and find the \"Connect\" button\n",
    "for li in li_elements[3:]:\n",
    "    try:\n",
    "        # Random initial delay to simulate human hesitation\n",
    "        time.sleep(random.uniform(1.5, 3.0))\n",
    "        # print(li.get_attribute(\"class\"))\n",
    "\n",
    "\n",
    "        # Find the \"Connect\" button within this <li>\n",
    "        connect_button = li.find_element(\n",
    "            By.XPATH, \".//button[contains(@class, 'artdeco-button')][.//span[text()='Connect']]\"\n",
    "        )\n",
    "        \n",
    "        # Store the name from aria-label\n",
    "        names.append(connect_button.get_attribute(\"aria-label\"))\n",
    "        \n",
    "        # Simulate human pause before clicking\n",
    "        # time.sleep(random.uniform(0.8, 2.0))\n",
    "        connect_button.click()\n",
    "        \n",
    "        time.sleep(random.uniform(1.0, 3.0))\n",
    "        # Wait for \"Add a note\" button with a random pause afterward\n",
    "        add_note_button = wait.until(\n",
    "            EC.element_to_be_clickable(\n",
    "                (By.XPATH, \"//button[@aria-label='Add a note'][contains(@class, 'artdeco-button')]\")\n",
    "            )\n",
    "        )\n",
    "        time.sleep(random.uniform(0.5, 1.5))\n",
    "        add_note_button.click()\n",
    "\n",
    "        # Wait for the textarea to appear\n",
    "        textarea = wait.until(\n",
    "            EC.visibility_of_element_located(\n",
    "                (By.XPATH, \"//textarea[@id='custom-message'][contains(@class, 'connect-button-send-invite__custom-message')]\")\n",
    "            )\n",
    "        )\n",
    "\n",
    "        # Slightly vary the message to avoid repetition detection\n",
    "        messages = [\n",
    "            \"Hi, we met at the recent tech conference. Looking forward to connecting!\",\n",
    "            \"Hey there, great meeting you at the tech conference! Excited to connect.\",\n",
    "            \"Hi! We crossed paths at the tech conference – happy to connect here!\"\n",
    "        ]\n",
    "        message = random.choice(messages)\n",
    "\n",
    "        # Simulate human typing with random delays\n",
    "        time.sleep(random.uniform(0.3, 1.0))  # Pause before typing\n",
    "        human_typing(textarea, message)\n",
    "\n",
    "        # Wait before clicking \"Send\"\n",
    "        send_button = wait.until(\n",
    "            EC.element_to_be_clickable(\n",
    "                (By.XPATH, \"//button[@aria-label='Send invitation'][contains(@class, 'artdeco-button')]\")\n",
    "            )\n",
    "        )\n",
    "\n",
    "        # Print confirmation (optional)\n",
    "        print(\"Found 'Send' button with aria-label: \", send_button.get_attribute(\"aria-label\"))\n",
    "\n",
    "        # Random pause before clicking send\n",
    "        time.sleep(random.uniform(1.0, 2.5))\n",
    "        # Uncomment to actually send\n",
    "        # send_button.click()\n",
    "\n",
    "        # For testing: Cancel the send with a human-like delay\n",
    "        cancel_send = wait.until(\n",
    "            EC.element_to_be_clickable(\n",
    "                (By.XPATH, \"//button[@aria-label='Dismiss'][contains(@class, 'artdeco-button')]\")\n",
    "            )\n",
    "        )\n",
    "        time.sleep(random.uniform(0.7, 1.8))\n",
    "        cancel_send.click()\n",
    "\n",
    "        # Add a longer random delay between iterations to mimic natural browsing\n",
    "        time.sleep(random.uniform(3.0, 6.0))\n",
    "\n",
    "    except Exception as e:\n",
    "        print(f\"Exception occurred: --------\")\n",
    "        # Fallback to \"Message\" button if \"Connect\" fails\n",
    "        try:\n",
    "            connect_button = li.find_element(\n",
    "                By.XPATH, \".//button[contains(@class, 'artdeco-button')][.//span[text()='Message']]\"\n",
    "            )\n",
    "            time.sleep(random.uniform(1.0, 2.0))  # Human-like pause before moving on\n",
    "            connect_button.click()\n",
    "            time.sleep(random.uniform(1.0, 2.0))  # Another pause before moving on\n",
    "\n",
    "            try:\n",
    "                print(\"checkimg for the button :\")\n",
    "                buttons = driver.find_elements(By.XPATH, \"//button[@aria-label='Create video meeting']\")\n",
    "                if buttons:\n",
    "                    print(\"Button with aria-label='Create video meeting' is present.\")\n",
    "                else:\n",
    "                    print(\"Button with aria-label='Create video meeting' is not present.\")\n",
    "                time.sleep(random.uniform(1.0, 2.0))\n",
    "                \n",
    "                print(\"Button with aria-label='Create video meeting' exists.\")\n",
    "                enter_message_text(driver)\n",
    "\n",
    "            except Exception as e:\n",
    "                print(\"Button with aria-label='Create video meeting' does not exist.\")\n",
    "                close_button = WebDriverWait(driver, 10).until(\n",
    "                    EC.element_to_be_clickable(\n",
    "                        (By.XPATH, \"//button[.//span[text()='Close your draft conversation']]\")\n",
    "                    )\n",
    "                )\n",
    "                time.sleep(random.uniform(1.0, 2.0))\n",
    "                close_button.click()\n",
    "                continue   \n",
    "\n",
    "        # except NoSuchElementException:\n",
    "        #     print(\"Button with aria-label='Create video meeting' does not exist.\")\n",
    "            \n",
    "        #     # enter_message_text(driver)\n",
    "        #     continue\n",
    "\n",
    "        except:\n",
    "            print(\"No 'Message' button found either. Skipping...\")\n",
    "        continue  # Move to the next <li> gracefully\n",
    "\n",
    "# Optional: Add a final delay to simulate a human finishing up\n",
    "time.sleep(random.uniform(2.0, 5.0))\n",
    "print(f\"Processed {len(names)} connection requests.\")"
   ]
  },
  {
   "cell_type": "code",
   "execution_count": 25,
   "metadata": {},
   "outputs": [
    {
     "name": "stdout",
     "output_type": "stream",
     "text": [
      "send text to the textbox\n",
      "Falling back to manual clearing\n",
      "Textbox cleared manually\n"
     ]
    }
   ],
   "source": [
    "textbox = driver.find_element(\n",
    "        By.XPATH, \"//div[@contenteditable='true'][@aria-label='Write a message…']\"\n",
    "    )\n",
    "time.sleep(random.uniform(1.0, 2.0))  # Human-like pause before clicking\n",
    "textbox.click()\n",
    "\n",
    "print(\"send text to the textbox\")\n",
    "# Step 2: Send text to the textbox\n",
    "message = \"Hello, this is a test message!\"\n",
    "textbox.send_keys(message)\n",
    "time.sleep(random.uniform(1.0, 2.0))  # Pause after typing\n",
    "\n",
    "# remove this while actual implementation------------------------------: Clear the text\n",
    "print(\"Falling back to manual clearing\")\n",
    "textbox.send_keys(Keys.CONTROL + \"a\")  # Select all\n",
    "time.sleep(random.uniform(0.5, 1.0))\n",
    "textbox.send_keys(Keys.BACKSPACE)  # Delete\n",
    "print(\"Textbox cleared manually\")"
   ]
  },
  {
   "cell_type": "code",
   "execution_count": null,
   "metadata": {},
   "outputs": [
    {
     "ename": "TimeoutException",
     "evalue": "Message: \nStacktrace:\n\tGetHandleVerifier [0x00007FF658D3DF85+26693]\n\t(No symbol) [0x00007FF658C9EAD0]\n\t(No symbol) [0x00007FF658B291CA]\n\t(No symbol) [0x00007FF658B7F747]\n\t(No symbol) [0x00007FF658B7F97C]\n\t(No symbol) [0x00007FF658BD33C7]\n\t(No symbol) [0x00007FF658BA792F]\n\t(No symbol) [0x00007FF658BD00B8]\n\t(No symbol) [0x00007FF658BA76C3]\n\t(No symbol) [0x00007FF658B70490]\n\t(No symbol) [0x00007FF658B71743]\n\tGetHandleVerifier [0x00007FF65909436D+3525677]\n\tGetHandleVerifier [0x00007FF6590A7F3B+3606523]\n\tGetHandleVerifier [0x00007FF65909CEE3+3561379]\n\tGetHandleVerifier [0x00007FF658E07C0A+853194]\n\t(No symbol) [0x00007FF658CA990F]\n\t(No symbol) [0x00007FF658CA5674]\n\t(No symbol) [0x00007FF658CA5816]\n\t(No symbol) [0x00007FF658C94D89]\n\tBaseThreadInitThunk [0x00007FF83DC4E8D7+23]\n\tRtlUserThreadStart [0x00007FF83EF3BF6C+44]\n",
     "output_type": "error",
     "traceback": [
      "\u001b[1;31m---------------------------------------------------------------------------\u001b[0m",
      "\u001b[1;31mTimeoutException\u001b[0m                          Traceback (most recent call last)",
      "Cell \u001b[1;32mIn[16], line 1\u001b[0m\n\u001b[1;32m----> 1\u001b[0m button \u001b[38;5;241m=\u001b[39m WebDriverWait(driver, \u001b[38;5;241m10\u001b[39m)\u001b[38;5;241m.\u001b[39muntil(\n\u001b[0;32m      2\u001b[0m     EC\u001b[38;5;241m.\u001b[39mpresence_of_element_located((By\u001b[38;5;241m.\u001b[39mXPATH, \u001b[38;5;124m\"\u001b[39m\u001b[38;5;124m//header//span[contains(normalize-space(text()), \u001b[39m\u001b[38;5;124m'\u001b[39m\u001b[38;5;124mClose your conversation with James Nichols\u001b[39m\u001b[38;5;124m'\u001b[39m\u001b[38;5;124m)]\u001b[39m\u001b[38;5;124m\"\u001b[39m))\n\u001b[0;32m      3\u001b[0m )\n\u001b[0;32m      4\u001b[0m button \u001b[38;5;241m=\u001b[39m button\u001b[38;5;241m.\u001b[39mfind_element(By\u001b[38;5;241m.\u001b[39mXPATH, \u001b[38;5;124m\"\u001b[39m\u001b[38;5;124m./parent::button\u001b[39m\u001b[38;5;124m\"\u001b[39m)\n\u001b[0;32m      5\u001b[0m button\u001b[38;5;241m.\u001b[39mclick()\n",
      "File \u001b[1;32md:\\Anaconda\\envs\\agents\\Lib\\site-packages\\selenium\\webdriver\\support\\wait.py:105\u001b[0m, in \u001b[0;36mWebDriverWait.until\u001b[1;34m(self, method, message)\u001b[0m\n\u001b[0;32m    103\u001b[0m     \u001b[38;5;28;01mif\u001b[39;00m time\u001b[38;5;241m.\u001b[39mmonotonic() \u001b[38;5;241m>\u001b[39m end_time:\n\u001b[0;32m    104\u001b[0m         \u001b[38;5;28;01mbreak\u001b[39;00m\n\u001b[1;32m--> 105\u001b[0m \u001b[38;5;28;01mraise\u001b[39;00m TimeoutException(message, screen, stacktrace)\n",
      "\u001b[1;31mTimeoutException\u001b[0m: Message: \nStacktrace:\n\tGetHandleVerifier [0x00007FF658D3DF85+26693]\n\t(No symbol) [0x00007FF658C9EAD0]\n\t(No symbol) [0x00007FF658B291CA]\n\t(No symbol) [0x00007FF658B7F747]\n\t(No symbol) [0x00007FF658B7F97C]\n\t(No symbol) [0x00007FF658BD33C7]\n\t(No symbol) [0x00007FF658BA792F]\n\t(No symbol) [0x00007FF658BD00B8]\n\t(No symbol) [0x00007FF658BA76C3]\n\t(No symbol) [0x00007FF658B70490]\n\t(No symbol) [0x00007FF658B71743]\n\tGetHandleVerifier [0x00007FF65909436D+3525677]\n\tGetHandleVerifier [0x00007FF6590A7F3B+3606523]\n\tGetHandleVerifier [0x00007FF65909CEE3+3561379]\n\tGetHandleVerifier [0x00007FF658E07C0A+853194]\n\t(No symbol) [0x00007FF658CA990F]\n\t(No symbol) [0x00007FF658CA5674]\n\t(No symbol) [0x00007FF658CA5816]\n\t(No symbol) [0x00007FF658C94D89]\n\tBaseThreadInitThunk [0x00007FF83DC4E8D7+23]\n\tRtlUserThreadStart [0x00007FF83EF3BF6C+44]\n"
     ]
    }
   ],
   "source": [
    "button = WebDriverWait(driver, 10).until(\n",
    "    EC.presence_of_element_located((By.XPATH, \"//header//span[contains(normalize-space(text()), 'Close your conversation with James Nichols')]\"))\n",
    ")\n",
    "# button = button.find_element(By.XPATH, \"./parent::button\")\n",
    "button.click()"
   ]
  },
  {
   "cell_type": "code",
   "execution_count": null,
   "metadata": {},
   "outputs": [
    {
     "name": "stdout",
     "output_type": "stream",
     "text": [
      "Close your conversation with James Nichols and Vikas Reddy Venkannagari\n"
     ]
    },
    {
     "ename": "ElementClickInterceptedException",
     "evalue": "Message: element click intercepted: Element <span class=\"artdeco-button__text\">...</span> is not clickable at point (717, 420). Other element would receive the click: <use href=\"#close-small\" width=\"16\" height=\"16\"></use>\n  (Session info: chrome=134.0.6998.118)\nStacktrace:\n\tGetHandleVerifier [0x00007FF73304DF85+26693]\n\t(No symbol) [0x00007FF732FAEAD0]\n\t(No symbol) [0x00007FF732E391CA]\n\t(No symbol) [0x00007FF732E975E9]\n\t(No symbol) [0x00007FF732E94FA2]\n\t(No symbol) [0x00007FF732E92051]\n\t(No symbol) [0x00007FF732E90F76]\n\t(No symbol) [0x00007FF732E827E4]\n\t(No symbol) [0x00007FF732EB78EA]\n\t(No symbol) [0x00007FF732E82096]\n\t(No symbol) [0x00007FF732EB7B00]\n\t(No symbol) [0x00007FF732EE00B8]\n\t(No symbol) [0x00007FF732EB76C3]\n\t(No symbol) [0x00007FF732E80490]\n\t(No symbol) [0x00007FF732E81743]\n\tGetHandleVerifier [0x00007FF7333A436D+3525677]\n\tGetHandleVerifier [0x00007FF7333B7F3B+3606523]\n\tGetHandleVerifier [0x00007FF7333ACEE3+3561379]\n\tGetHandleVerifier [0x00007FF733117C0A+853194]\n\t(No symbol) [0x00007FF732FB990F]\n\t(No symbol) [0x00007FF732FB5674]\n\t(No symbol) [0x00007FF732FB5816]\n\t(No symbol) [0x00007FF732FA4D89]\n\tBaseThreadInitThunk [0x00007FF83DC4E8D7+23]\n\tRtlUserThreadStart [0x00007FF83EF3BF6C+44]\n",
     "output_type": "error",
     "traceback": [
      "\u001b[1;31m---------------------------------------------------------------------------\u001b[0m",
      "\u001b[1;31mElementClickInterceptedException\u001b[0m          Traceback (most recent call last)",
      "Cell \u001b[1;32mIn[124], line 8\u001b[0m\n\u001b[0;32m      6\u001b[0m \u001b[38;5;28;01mif\u001b[39;00m \u001b[38;5;124m\"\u001b[39m\u001b[38;5;124mClose your conversation\u001b[39m\u001b[38;5;124m\"\u001b[39m \u001b[38;5;129;01min\u001b[39;00m span_text\u001b[38;5;241m.\u001b[39mtext:\n\u001b[0;32m      7\u001b[0m     \u001b[38;5;28mprint\u001b[39m(span_text\u001b[38;5;241m.\u001b[39mtext)\n\u001b[1;32m----> 8\u001b[0m     span_text\u001b[38;5;241m.\u001b[39mclick()\n\u001b[0;32m      9\u001b[0m     \u001b[38;5;28;01mbreak\u001b[39;00m\n",
      "File \u001b[1;32md:\\Anaconda\\envs\\agents\\Lib\\site-packages\\selenium\\webdriver\\remote\\webelement.py:94\u001b[0m, in \u001b[0;36mWebElement.click\u001b[1;34m(self)\u001b[0m\n\u001b[0;32m     92\u001b[0m \u001b[38;5;28;01mdef\u001b[39;00m \u001b[38;5;21mclick\u001b[39m(\u001b[38;5;28mself\u001b[39m) \u001b[38;5;241m-\u001b[39m\u001b[38;5;241m>\u001b[39m \u001b[38;5;28;01mNone\u001b[39;00m:\n\u001b[0;32m     93\u001b[0m \u001b[38;5;250m    \u001b[39m\u001b[38;5;124;03m\"\"\"Clicks the element.\"\"\"\u001b[39;00m\n\u001b[1;32m---> 94\u001b[0m     \u001b[38;5;28mself\u001b[39m\u001b[38;5;241m.\u001b[39m_execute(Command\u001b[38;5;241m.\u001b[39mCLICK_ELEMENT)\n",
      "File \u001b[1;32md:\\Anaconda\\envs\\agents\\Lib\\site-packages\\selenium\\webdriver\\remote\\webelement.py:395\u001b[0m, in \u001b[0;36mWebElement._execute\u001b[1;34m(self, command, params)\u001b[0m\n\u001b[0;32m    393\u001b[0m     params \u001b[38;5;241m=\u001b[39m {}\n\u001b[0;32m    394\u001b[0m params[\u001b[38;5;124m\"\u001b[39m\u001b[38;5;124mid\u001b[39m\u001b[38;5;124m\"\u001b[39m] \u001b[38;5;241m=\u001b[39m \u001b[38;5;28mself\u001b[39m\u001b[38;5;241m.\u001b[39m_id\n\u001b[1;32m--> 395\u001b[0m \u001b[38;5;28;01mreturn\u001b[39;00m \u001b[38;5;28mself\u001b[39m\u001b[38;5;241m.\u001b[39m_parent\u001b[38;5;241m.\u001b[39mexecute(command, params)\n",
      "File \u001b[1;32md:\\Anaconda\\envs\\agents\\Lib\\site-packages\\selenium\\webdriver\\remote\\webdriver.py:354\u001b[0m, in \u001b[0;36mWebDriver.execute\u001b[1;34m(self, driver_command, params)\u001b[0m\n\u001b[0;32m    352\u001b[0m response \u001b[38;5;241m=\u001b[39m \u001b[38;5;28mself\u001b[39m\u001b[38;5;241m.\u001b[39mcommand_executor\u001b[38;5;241m.\u001b[39mexecute(driver_command, params)\n\u001b[0;32m    353\u001b[0m \u001b[38;5;28;01mif\u001b[39;00m response:\n\u001b[1;32m--> 354\u001b[0m     \u001b[38;5;28mself\u001b[39m\u001b[38;5;241m.\u001b[39merror_handler\u001b[38;5;241m.\u001b[39mcheck_response(response)\n\u001b[0;32m    355\u001b[0m     response[\u001b[38;5;124m\"\u001b[39m\u001b[38;5;124mvalue\u001b[39m\u001b[38;5;124m\"\u001b[39m] \u001b[38;5;241m=\u001b[39m \u001b[38;5;28mself\u001b[39m\u001b[38;5;241m.\u001b[39m_unwrap_value(response\u001b[38;5;241m.\u001b[39mget(\u001b[38;5;124m\"\u001b[39m\u001b[38;5;124mvalue\u001b[39m\u001b[38;5;124m\"\u001b[39m, \u001b[38;5;28;01mNone\u001b[39;00m))\n\u001b[0;32m    356\u001b[0m     \u001b[38;5;28;01mreturn\u001b[39;00m response\n",
      "File \u001b[1;32md:\\Anaconda\\envs\\agents\\Lib\\site-packages\\selenium\\webdriver\\remote\\errorhandler.py:229\u001b[0m, in \u001b[0;36mErrorHandler.check_response\u001b[1;34m(self, response)\u001b[0m\n\u001b[0;32m    227\u001b[0m         alert_text \u001b[38;5;241m=\u001b[39m value[\u001b[38;5;124m\"\u001b[39m\u001b[38;5;124malert\u001b[39m\u001b[38;5;124m\"\u001b[39m]\u001b[38;5;241m.\u001b[39mget(\u001b[38;5;124m\"\u001b[39m\u001b[38;5;124mtext\u001b[39m\u001b[38;5;124m\"\u001b[39m)\n\u001b[0;32m    228\u001b[0m     \u001b[38;5;28;01mraise\u001b[39;00m exception_class(message, screen, stacktrace, alert_text)  \u001b[38;5;66;03m# type: ignore[call-arg]  # mypy is not smart enough here\u001b[39;00m\n\u001b[1;32m--> 229\u001b[0m \u001b[38;5;28;01mraise\u001b[39;00m exception_class(message, screen, stacktrace)\n",
      "\u001b[1;31mElementClickInterceptedException\u001b[0m: Message: element click intercepted: Element <span class=\"artdeco-button__text\">...</span> is not clickable at point (717, 420). Other element would receive the click: <use href=\"#close-small\" width=\"16\" height=\"16\"></use>\n  (Session info: chrome=134.0.6998.118)\nStacktrace:\n\tGetHandleVerifier [0x00007FF73304DF85+26693]\n\t(No symbol) [0x00007FF732FAEAD0]\n\t(No symbol) [0x00007FF732E391CA]\n\t(No symbol) [0x00007FF732E975E9]\n\t(No symbol) [0x00007FF732E94FA2]\n\t(No symbol) [0x00007FF732E92051]\n\t(No symbol) [0x00007FF732E90F76]\n\t(No symbol) [0x00007FF732E827E4]\n\t(No symbol) [0x00007FF732EB78EA]\n\t(No symbol) [0x00007FF732E82096]\n\t(No symbol) [0x00007FF732EB7B00]\n\t(No symbol) [0x00007FF732EE00B8]\n\t(No symbol) [0x00007FF732EB76C3]\n\t(No symbol) [0x00007FF732E80490]\n\t(No symbol) [0x00007FF732E81743]\n\tGetHandleVerifier [0x00007FF7333A436D+3525677]\n\tGetHandleVerifier [0x00007FF7333B7F3B+3606523]\n\tGetHandleVerifier [0x00007FF7333ACEE3+3561379]\n\tGetHandleVerifier [0x00007FF733117C0A+853194]\n\t(No symbol) [0x00007FF732FB990F]\n\t(No symbol) [0x00007FF732FB5674]\n\t(No symbol) [0x00007FF732FB5816]\n\t(No symbol) [0x00007FF732FA4D89]\n\tBaseThreadInitThunk [0x00007FF83DC4E8D7+23]\n\tRtlUserThreadStart [0x00007FF83EF3BF6C+44]\n"
     ]
    }
   ],
   "source": [
    "# print(\"Failed to find close button:\", e)\n",
    "    # Check all buttons with spans\n",
    "buttons = driver.find_elements(By.XPATH, \"//button[.//span]\")\n",
    "for i, button in enumerate(buttons, 1): \n",
    "    span_text = button.find_element(By.XPATH, \".//span\")\n",
    "    if \"Close your conversation\" in span_text.text:\n",
    "        print(span_text.text)\n",
    "        span_text.click()\n",
    "        break"
   ]
  },
  {
   "cell_type": "code",
   "execution_count": 21,
   "metadata": {},
   "outputs": [
    {
     "ename": "TimeoutException",
     "evalue": "Message: \nStacktrace:\n\tGetHandleVerifier [0x00007FF658D3DF85+26693]\n\t(No symbol) [0x00007FF658C9EAD0]\n\t(No symbol) [0x00007FF658B291CA]\n\t(No symbol) [0x00007FF658B7F747]\n\t(No symbol) [0x00007FF658B7F97C]\n\t(No symbol) [0x00007FF658BD33C7]\n\t(No symbol) [0x00007FF658BA792F]\n\t(No symbol) [0x00007FF658BD00B8]\n\t(No symbol) [0x00007FF658BA76C3]\n\t(No symbol) [0x00007FF658B70490]\n\t(No symbol) [0x00007FF658B71743]\n\tGetHandleVerifier [0x00007FF65909436D+3525677]\n\tGetHandleVerifier [0x00007FF6590A7F3B+3606523]\n\tGetHandleVerifier [0x00007FF65909CEE3+3561379]\n\tGetHandleVerifier [0x00007FF658E07C0A+853194]\n\t(No symbol) [0x00007FF658CA990F]\n\t(No symbol) [0x00007FF658CA5674]\n\t(No symbol) [0x00007FF658CA5816]\n\t(No symbol) [0x00007FF658C94D89]\n\tBaseThreadInitThunk [0x00007FF83DC4E8D7+23]\n\tRtlUserThreadStart [0x00007FF83EF3BF6C+44]\n",
     "output_type": "error",
     "traceback": [
      "\u001b[1;31m---------------------------------------------------------------------------\u001b[0m",
      "\u001b[1;31mTimeoutException\u001b[0m                          Traceback (most recent call last)",
      "Cell \u001b[1;32mIn[21], line 1\u001b[0m\n\u001b[1;32m----> 1\u001b[0m button \u001b[38;5;241m=\u001b[39m WebDriverWait(driver, \u001b[38;5;241m10\u001b[39m)\u001b[38;5;241m.\u001b[39muntil(\n\u001b[0;32m      2\u001b[0m     EC\u001b[38;5;241m.\u001b[39mpresence_of_element_located((By\u001b[38;5;241m.\u001b[39mXPATH, \u001b[38;5;124m\"\u001b[39m\u001b[38;5;124m//span[contains(text(), \u001b[39m\u001b[38;5;124m'\u001b[39m\u001b[38;5;124mVikas Reddy Venkannagari\u001b[39m\u001b[38;5;124m'\u001b[39m\u001b[38;5;124m)]/parent::button\u001b[39m\u001b[38;5;124m\"\u001b[39m))\n\u001b[0;32m      3\u001b[0m )\n\u001b[0;32m      4\u001b[0m button\u001b[38;5;241m.\u001b[39mclick()\n",
      "File \u001b[1;32md:\\Anaconda\\envs\\agents\\Lib\\site-packages\\selenium\\webdriver\\support\\wait.py:105\u001b[0m, in \u001b[0;36mWebDriverWait.until\u001b[1;34m(self, method, message)\u001b[0m\n\u001b[0;32m    103\u001b[0m     \u001b[38;5;28;01mif\u001b[39;00m time\u001b[38;5;241m.\u001b[39mmonotonic() \u001b[38;5;241m>\u001b[39m end_time:\n\u001b[0;32m    104\u001b[0m         \u001b[38;5;28;01mbreak\u001b[39;00m\n\u001b[1;32m--> 105\u001b[0m \u001b[38;5;28;01mraise\u001b[39;00m TimeoutException(message, screen, stacktrace)\n",
      "\u001b[1;31mTimeoutException\u001b[0m: Message: \nStacktrace:\n\tGetHandleVerifier [0x00007FF658D3DF85+26693]\n\t(No symbol) [0x00007FF658C9EAD0]\n\t(No symbol) [0x00007FF658B291CA]\n\t(No symbol) [0x00007FF658B7F747]\n\t(No symbol) [0x00007FF658B7F97C]\n\t(No symbol) [0x00007FF658BD33C7]\n\t(No symbol) [0x00007FF658BA792F]\n\t(No symbol) [0x00007FF658BD00B8]\n\t(No symbol) [0x00007FF658BA76C3]\n\t(No symbol) [0x00007FF658B70490]\n\t(No symbol) [0x00007FF658B71743]\n\tGetHandleVerifier [0x00007FF65909436D+3525677]\n\tGetHandleVerifier [0x00007FF6590A7F3B+3606523]\n\tGetHandleVerifier [0x00007FF65909CEE3+3561379]\n\tGetHandleVerifier [0x00007FF658E07C0A+853194]\n\t(No symbol) [0x00007FF658CA990F]\n\t(No symbol) [0x00007FF658CA5674]\n\t(No symbol) [0x00007FF658CA5816]\n\t(No symbol) [0x00007FF658C94D89]\n\tBaseThreadInitThunk [0x00007FF83DC4E8D7+23]\n\tRtlUserThreadStart [0x00007FF83EF3BF6C+44]\n"
     ]
    }
   ],
   "source": [
    "button = WebDriverWait(driver, 10).until(\n",
    "    EC.presence_of_element_located((By.XPATH, \"//span[contains(text(), 'Vikas Reddy Venkannagari')]/parent::button\"))\n",
    ")\n",
    "button.click()"
   ]
  },
  {
   "cell_type": "code",
   "execution_count": 23,
   "metadata": {},
   "outputs": [
    {
     "name": "stdout",
     "output_type": "stream",
     "text": [
      "Found button with ID: ember366\n",
      "Button clicked successfully!\n"
     ]
    }
   ],
   "source": [
    "button = WebDriverWait(driver, 10).until(\n",
    "        EC.presence_of_element_located((By.XPATH, \"//span[contains(., 'Close your conversation')]/parent::button\"))\n",
    "    )\n",
    "print(f\"Found button with ID: {button.get_attribute('id')}\")  # Should be \"ember366\"\n",
    "button.click()\n",
    "print(\"Button clicked successfully!\")"
   ]
  },
  {
   "cell_type": "code",
   "execution_count": null,
   "metadata": {},
   "outputs": [],
   "source": []
  }
 ],
 "metadata": {
  "kernelspec": {
   "display_name": "agents",
   "language": "python",
   "name": "python3"
  },
  "language_info": {
   "codemirror_mode": {
    "name": "ipython",
    "version": 3
   },
   "file_extension": ".py",
   "mimetype": "text/x-python",
   "name": "python",
   "nbconvert_exporter": "python",
   "pygments_lexer": "ipython3",
   "version": "3.12.8"
  }
 },
 "nbformat": 4,
 "nbformat_minor": 2
}
